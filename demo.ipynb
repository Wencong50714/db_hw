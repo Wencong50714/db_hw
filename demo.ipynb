{
 "cells": [
  {
   "cell_type": "markdown",
   "metadata": {},
   "source": [
    "## 基础设置\n",
    "---\n",
    "首先我们应该安装 duckdb 的 python 环境, 请自行上网搜索"
   ]
  },
  {
   "cell_type": "code",
   "execution_count": 56,
   "metadata": {},
   "outputs": [],
   "source": [
    "import duckdb"
   ]
  },
  {
   "cell_type": "markdown",
   "metadata": {},
   "source": [
    "随后根据我们的 ER 图构建我们的表, 构建表的 sql 文件在本地目录下"
   ]
  },
  {
   "cell_type": "code",
   "execution_count": 57,
   "metadata": {},
   "outputs": [],
   "source": [
    "con = duckdb.connect(':memory:') # connect to memory \n",
    "\n",
    "sql_file_path = './table_construct.sql'\n",
    "with open(sql_file_path, 'r') as sql_file:\n",
    "    sql_script = sql_file.read()\n",
    "    con.execute(sql_script)"
   ]
  },
  {
   "cell_type": "markdown",
   "metadata": {},
   "source": [
    "## Table Overview\n",
    "---\n",
    "![er-model](./er-model.png)"
   ]
  },
  {
   "cell_type": "markdown",
   "metadata": {},
   "source": [
    "简单测试一下, 首先我们先打印出数据库中所有表"
   ]
  },
  {
   "cell_type": "code",
   "execution_count": 58,
   "metadata": {},
   "outputs": [
    {
     "name": "stdout",
     "output_type": "stream",
     "text": [
      "appointment\n",
      "contains\n",
      "employee\n",
      "include\n",
      "order\n",
      "owner\n",
      "pet\n",
      "product\n",
      "product_info\n",
      "service\n",
      "service_type\n"
     ]
    }
   ],
   "source": [
    "# Query the table infomation of current database\n",
    "result = con.sql(\"SELECT table_name FROM information_schema.tables WHERE table_schema = 'main'\").fetchall()\n",
    "\n",
    "# Show output\n",
    "for table in result:\n",
    "    print(table[0])"
   ]
  },
  {
   "cell_type": "markdown",
   "metadata": {},
   "source": [
    "结果符合我们的预期\n",
    "\n",
    "接下来我们任选一个表检查一下 schema"
   ]
  },
  {
   "cell_type": "code",
   "execution_count": 59,
   "metadata": {},
   "outputs": [
    {
     "data": {
      "text/plain": [
       "┌─────────────┬─────────────┬─────────┬─────────┬─────────┬─────────┐\n",
       "│ column_name │ column_type │  null   │   key   │ default │  extra  │\n",
       "│   varchar   │   varchar   │ varchar │ varchar │ varchar │ varchar │\n",
       "├─────────────┼─────────────┼─────────┼─────────┼─────────┼─────────┤\n",
       "│ id          │ INTEGER     │ NO      │ PRI     │ NULL    │ NULL    │\n",
       "│ employee_id │ INTEGER     │ YES     │ NULL    │ NULL    │ NULL    │\n",
       "│ type        │ VARCHAR     │ YES     │ NULL    │ NULL    │ NULL    │\n",
       "└─────────────┴─────────────┴─────────┴─────────┴─────────┴─────────┘"
      ]
     },
     "execution_count": 59,
     "metadata": {},
     "output_type": "execute_result"
    }
   ],
   "source": [
    "con.sql(\"DESCRIBE service\")"
   ]
  },
  {
   "cell_type": "markdown",
   "metadata": {},
   "source": [
    "Perfect! 由于没有填入数据, 因此表为 0 行, 但我们可以看到表的结构也是符合我们的 E-R 图的.\n"
   ]
  },
  {
   "cell_type": "markdown",
   "metadata": {},
   "source": [
    "## 填入数据, 使用数据库"
   ]
  },
  {
   "cell_type": "code",
   "execution_count": 60,
   "metadata": {},
   "outputs": [],
   "source": [
    "sql_file_path = './pad_data.sql'\n",
    "with open(sql_file_path, 'r') as sql_file:\n",
    "    sql_script = sql_file.read()\n",
    "    con.execute(sql_script)"
   ]
  },
  {
   "cell_type": "markdown",
   "metadata": {},
   "source": [
    "## Demo\n",
    "---\n",
    "### 示例 1: 格雷🦊斯表面是个黑帮教父, 实际是个宠物控, 让我们来看看格雷🦊斯在宠物店的订单记录\n",
    "\n",
    "神奇的 Sql 代码如下\n",
    "``` sql\n",
    "SELECT \"order\".id, \"order\".time, \"order\".amount, \"order\".status\n",
    "FROM \"order\"\n",
    "JOIN owner ON \"order\".owner_id = owner.id\n",
    "WHERE owner.name = '张三';\n",
    "```"
   ]
  },
  {
   "cell_type": "code",
   "execution_count": 61,
   "metadata": {},
   "outputs": [
    {
     "data": {
      "text/plain": [
       "┌───────┬─────────────────────┬────────┬─────────┐\n",
       "│  id   │        time         │ amount │ status  │\n",
       "│ int32 │      timestamp      │ float  │ varchar │\n",
       "├───────┼─────────────────────┼────────┼─────────┤\n",
       "│     1 │ 2023-01-20 14:00:00 │   50.0 │ 已完成  │\n",
       "│     4 │ 2023-04-10 11:10:00 │   80.0 │ 已完成  │\n",
       "└───────┴─────────────────────┴────────┴─────────┘"
      ]
     },
     "execution_count": 61,
     "metadata": {},
     "output_type": "execute_result"
    }
   ],
   "source": [
    "con.sql('''\n",
    "    SELECT \"order\".id, \"order\".time, \"order\".amount, \"order\".status\n",
    "    FROM \"order\"\n",
    "    JOIN owner ON \"order\".owner_id = owner.id\n",
    "    WHERE owner.name = '格雷🦊斯'\n",
    "''')"
   ]
  },
  {
   "cell_type": "markdown",
   "metadata": {},
   "source": [
    "震惊😱 格雷🦊斯居然在宠物店里消费过这么多次\n",
    "> “黑帮首领也有心肠。” - 阿尔·卡彭 (Al Capone)\n",
    "\n",
    "### 示例2: 炸弹狂人💣吉格斯居然在宠物店接私活, 快来一探究竟\n",
    "\n",
    "万能的 sql 代码如下\n",
    "```sql\n",
    "SELECT service_type.type, appointment.appoint_time\n",
    "FROM service\n",
    "JOIN employee ON service.employee_id = employee.id\n",
    "JOIN service_type ON service.type = service_type.type\n",
    "JOIN appointment ON service.id = appointment.id\n",
    "WHERE employee.name = '吉格斯';\n",
    "```"
   ]
  },
  {
   "cell_type": "code",
   "execution_count": 62,
   "metadata": {},
   "outputs": [
    {
     "data": {
      "text/plain": [
       "┌─────────┬────────────┐\n",
       "│  type   │  position  │\n",
       "│ varchar │  varchar   │\n",
       "├─────────┼────────────┤\n",
       "│ 洗澡    │ 宠物护理师 │\n",
       "└─────────┴────────────┘"
      ]
     },
     "execution_count": 62,
     "metadata": {},
     "output_type": "execute_result"
    }
   ],
   "source": [
    "con.sql('''\n",
    "    SELECT service_type.type, employee.position\n",
    "    FROM service\n",
    "    JOIN employee ON service.employee_id = employee.id\n",
    "    JOIN service_type ON service.type = service_type.type\n",
    "    WHERE employee.name = '吉格斯';\n",
    "''')"
   ]
  },
  {
   "cell_type": "markdown",
   "metadata": {},
   "source": [
    "想不到啊想不到, 炸弹人你居然去当了宠物护理师.\n",
    "\n",
    "接下来是最后一个例子\n",
    "\n",
    "\n",
    "\n",
    "### 示例三 伊泽瑞尔是宠物店的常客, 但是经常忘记自己买过什么东西, 请你来帮帮他\n",
    "\n",
    "Powerful 的 sql 代码如下:\n",
    "```sql\n",
    "SELECT product_info.name, \"order\".amount, product.stock_quantity\n",
    "FROM \"order\"\n",
    "JOIN owner ON \"order\".owner_id = owner.id\n",
    "JOIN contains ON \"order\".id = contains.order_id\n",
    "JOIN product ON contains.product_id = product.id\n",
    "JOIN product_info ON product.name = product_info.name\n",
    "WHERE owner.name = '伊泽瑞尔';\n",
    "\n",
    "```"
   ]
  },
  {
   "cell_type": "code",
   "execution_count": 63,
   "metadata": {},
   "outputs": [
    {
     "data": {
      "text/plain": [
       "┌──────────┬────────┬────────────────┐\n",
       "│   name   │ amount │ stock_quantity │\n",
       "│ varchar  │ float  │     int32      │\n",
       "├──────────┼────────┼────────────────┤\n",
       "│ 宠物玩具 │  100.0 │             50 │\n",
       "└──────────┴────────┴────────────────┘"
      ]
     },
     "execution_count": 63,
     "metadata": {},
     "output_type": "execute_result"
    }
   ],
   "source": [
    "con.sql('''\n",
    "    SELECT product_info.name, \"order\".amount, product.stock_quantity\n",
    "    FROM \"order\"\n",
    "    JOIN owner ON \"order\".owner_id = owner.id\n",
    "    JOIN contains ON \"order\".id = contains.order_id\n",
    "    JOIN product ON contains.product_id = product.id\n",
    "    JOIN product_info ON product.name = product_info.name\n",
    "    WHERE owner.name = 'EZ瑞尔';\n",
    "''')"
   ]
  },
  {
   "cell_type": "markdown",
   "metadata": {},
   "source": [
    "哦吼, EZ 瑞尔买过宠物玩具, 一共花了 100 大米 (1/4.5)个多兰剑, 真奢侈!\n",
    "\n",
    "\n",
    "\n",
    "## 结束\n",
    "最后, 不要忘记关闭我们的数据库 🥰, 展示完毕! see you again"
   ]
  },
  {
   "cell_type": "code",
   "execution_count": 64,
   "metadata": {},
   "outputs": [],
   "source": [
    "con.close()"
   ]
  }
 ],
 "metadata": {
  "kernelspec": {
   "display_name": "base",
   "language": "python",
   "name": "python3"
  },
  "language_info": {
   "codemirror_mode": {
    "name": "ipython",
    "version": 3
   },
   "file_extension": ".py",
   "mimetype": "text/x-python",
   "name": "python",
   "nbconvert_exporter": "python",
   "pygments_lexer": "ipython3",
   "version": "3.9.18"
  }
 },
 "nbformat": 4,
 "nbformat_minor": 2
}
